{
 "cells": [
  {
   "cell_type": "markdown",
   "metadata": {},
   "source": [
    "### Python Basics - Assignment"
   ]
  },
  {
   "cell_type": "markdown",
   "metadata": {},
   "source": [
    "#### Questions on String"
   ]
  },
  {
   "cell_type": "code",
   "execution_count": 25,
   "metadata": {},
   "outputs": [],
   "source": [
    "# Perform operations on this string\n",
    "str = \" I am very keen in building up my career in Data Science, but not sure from where to start. If I search the web it throws me thousands of articles, few are relevant others make me confused, again I come around to the same page. Supervised has provided me a good platform to remove all such qualms which were wrangling in my mind\""
   ]
  },
  {
   "cell_type": "markdown",
   "metadata": {},
   "source": [
    "#### Q1: Average length of the string\n",
    "\n",
    "##### Assuming the question was wrong and the right question was 'Average length of the words in the string' OR 'Average length of sentences in the string'\n",
    "\n",
    "##### Modified question: Average length of the words in the string"
   ]
  },
  {
   "cell_type": "code",
   "execution_count": 26,
   "metadata": {},
   "outputs": [
    {
     "name": "stdout",
     "output_type": "stream",
     "text": [
      "Average length of the words in string is: 4.0\n"
     ]
    }
   ],
   "source": [
    "# Replace the characters fullstop and comma.\n",
    "str1 = str\n",
    "\n",
    "str1.replace('.','').replace(',','')\n",
    "\n",
    "# Split the str to list of words\n",
    "lst_words = str1.split()\n",
    "#lst_words\n",
    "\n",
    "# Find length of all the words\n",
    "avg_length = sum([len(s) for s in lst_words])/len(lst_words)\n",
    "\n",
    "print('Average length of the words in string is: {}'.format(round(avg_length,0)))"
   ]
  },
  {
   "cell_type": "markdown",
   "metadata": {},
   "source": [
    "#### Q2: Lower the text in the string."
   ]
  },
  {
   "cell_type": "code",
   "execution_count": 34,
   "metadata": {},
   "outputs": [
    {
     "data": {
      "text/plain": [
       "' i am very keen in building up my career in data science, but not sure from where to start. if i search the web it throws me thousands of articles, few are relevant others make me confused, again i come around to the same page. supervised has provided me a good platform to remove all such qualms which were wrangling in my mind'"
      ]
     },
     "execution_count": 34,
     "metadata": {},
     "output_type": "execute_result"
    }
   ],
   "source": [
    "str2 = str\n",
    "str2.lower()"
   ]
  },
  {
   "cell_type": "markdown",
   "metadata": {},
   "source": [
    "#### Q3: Try to get the clean text removing the punctuation from the string."
   ]
  },
  {
   "cell_type": "code",
   "execution_count": 35,
   "metadata": {},
   "outputs": [
    {
     "data": {
      "text/plain": [
       "' I am very keen in building up my career in Data Science but not sure from where to start If I search the web it throws me thousands of articles few are relevant others make me confused again I come around to the same page Supervised has provided me a good platform to remove all such qualms which were wrangling in my mind'"
      ]
     },
     "execution_count": 35,
     "metadata": {},
     "output_type": "execute_result"
    }
   ],
   "source": [
    "str3 = str\n",
    "str3.replace('.','').replace(',','')"
   ]
  },
  {
   "cell_type": "markdown",
   "metadata": {},
   "source": [
    "#### Q4: Extract word \"Data Science\" from the string"
   ]
  },
  {
   "cell_type": "code",
   "execution_count": 37,
   "metadata": {},
   "outputs": [
    {
     "data": {
      "text/plain": [
       "'Data Science'"
      ]
     },
     "execution_count": 37,
     "metadata": {},
     "output_type": "execute_result"
    }
   ],
   "source": [
    "ftxt = 'Data Science'\n",
    "str[str.find(ftxt): str.find(ftxt)+len(ftxt)]"
   ]
  },
  {
   "cell_type": "markdown",
   "metadata": {},
   "source": [
    "#### Q5: Find the frequency of words used in the string."
   ]
  },
  {
   "cell_type": "code",
   "execution_count": 42,
   "metadata": {},
   "outputs": [
    {
     "name": "stdout",
     "output_type": "stream",
     "text": [
      "[('am', 1), ('very', 1), ('keen', 1), ('building', 1), ('up', 1), ('career', 1), ('Data', 1), ('Science,', 1), ('but', 1), ('not', 1), ('sure', 1), ('from', 1), ('where', 1), ('start.', 1), ('If', 1), ('search', 1), ('web', 1), ('it', 1), ('throws', 1), ('thousands', 1), ('of', 1), ('articles,', 1), ('few', 1), ('are', 1), ('relevant', 1), ('others', 1), ('make', 1), ('confused,', 1), ('again', 1), ('come', 1), ('around', 1), ('same', 1), ('page.', 1), ('Supervised', 1), ('has', 1), ('provided', 1), ('a', 1), ('good', 1), ('platform', 1), ('remove', 1), ('all', 1), ('such', 1), ('qualms', 1), ('which', 1), ('were', 1), ('wrangling', 1), ('mind', 1), ('my', 2), ('the', 2), ('I', 3), ('in', 3), ('to', 3), ('me', 3)]\n"
     ]
    }
   ],
   "source": [
    "freq_dict = {}\n",
    "for w in lst_words:\n",
    "    if w in freq_dict:\n",
    "        freq_dict[w] += 1\n",
    "    else:\n",
    "        freq_dict[w] = 1\n",
    "        \n",
    "print(sorted(freq_dict.items(), key=lambda x: x[1]))"
   ]
  },
  {
   "cell_type": "markdown",
   "metadata": {},
   "source": [
    "#### Q6: Fetch the duplicate pairs used in the string."
   ]
  },
  {
   "cell_type": "markdown",
   "metadata": {},
   "source": [
    "#### Q7: Can you change the word \"Supervised\" to \"Unsupervised\" in the string"
   ]
  },
  {
   "cell_type": "code",
   "execution_count": 46,
   "metadata": {},
   "outputs": [
    {
     "data": {
      "text/plain": [
       "' I am very keen in building up my career in Data Science, but not sure from where to start. If I search the web it throws me thousands of articles, few are relevant others make me confused, again I come around to the same page. Supervised has provided me a good platform to remove all such qualms which were wrangling in my mind'"
      ]
     },
     "execution_count": 46,
     "metadata": {},
     "output_type": "execute_result"
    }
   ],
   "source": [
    "str7 = str.replace(\"Supervised\", \"Unsupervised\")\n",
    "str7"
   ]
  },
  {
   "cell_type": "markdown",
   "metadata": {},
   "source": [
    "#### Q8: Splitting of the string with a dot operator(.)"
   ]
  },
  {
   "cell_type": "code",
   "execution_count": 53,
   "metadata": {},
   "outputs": [
    {
     "name": "stdout",
     "output_type": "stream",
     "text": [
      "SENTENCE1:  I am very keen in building up my career in Data Science, but not sure from where to start\n",
      "SENTENCE2:  If I search the web it throws me thousands of articles, few are relevant others make me confused, again I come around to the same page\n",
      "SENTENCE3:  Supervised has provided me a good platform to remove all such qualms which were wrangling in my mind\n"
     ]
    }
   ],
   "source": [
    "sentences = str.split('.')\n",
    "for i, s in enumerate(sentences):\n",
    "    print(\"SENTENCE{}: {}\".format(i+1, s))"
   ]
  },
  {
   "cell_type": "markdown",
   "metadata": {},
   "source": [
    "#### Q9: Find the words from the string which ends with \"e\""
   ]
  },
  {
   "cell_type": "code",
   "execution_count": 55,
   "metadata": {},
   "outputs": [
    {
     "name": "stdout",
     "output_type": "stream",
     "text": [
      "['sure', 'where', 'the', 'me', 'are', 'make', 'me', 'come', 'the', 'same', 'me', 'remove', 'were']\n"
     ]
    }
   ],
   "source": [
    "words_e = [w for w in lst_words if w.endswith('e')]\n",
    "print(words_e)"
   ]
  },
  {
   "cell_type": "markdown",
   "metadata": {},
   "source": [
    "#### Q10: Figure out number of a's used in the string."
   ]
  },
  {
   "cell_type": "code",
   "execution_count": 57,
   "metadata": {},
   "outputs": [
    {
     "name": "stdout",
     "output_type": "stream",
     "text": [
      "No of a's : 22\n"
     ]
    }
   ],
   "source": [
    "num_a = str.count('a')\n",
    "print(\"No of a's :\",num_a)"
   ]
  }
 ],
 "metadata": {
  "kernelspec": {
   "display_name": "Python 3",
   "language": "python",
   "name": "python3"
  },
  "language_info": {
   "codemirror_mode": {
    "name": "ipython",
    "version": 3
   },
   "file_extension": ".py",
   "mimetype": "text/x-python",
   "name": "python",
   "nbconvert_exporter": "python",
   "pygments_lexer": "ipython3",
   "version": "3.7.0"
  }
 },
 "nbformat": 4,
 "nbformat_minor": 2
}
