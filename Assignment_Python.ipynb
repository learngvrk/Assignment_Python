{
 "cells": [
  {
   "cell_type": "markdown",
   "metadata": {},
   "source": [
    "### Python Basics - Assignment"
   ]
  },
  {
   "cell_type": "markdown",
   "metadata": {},
   "source": [
    "#### Questions on String"
   ]
  },
  {
   "cell_type": "code",
   "execution_count": 2,
   "metadata": {},
   "outputs": [],
   "source": [
    "# Perform operations on this string\n",
    "str = \" I am very keen in building up my career in Data Science, but not sure from where to start. If I search the web it throws me thousands of articles, few are relevant others make me confused, again I come around to the same page. Supervised has provided me a good platform to remove all such qualms which were wrangling in my mind\""
   ]
  },
  {
   "cell_type": "markdown",
   "metadata": {},
   "source": [
    "#### Q1: Average length of the string\n",
    "\n",
    "##### Assuming the question was wrong and the right question was 'Average length of the words in the string' OR 'Average length of sentences in the string'\n",
    "\n",
    "##### Modified question: Average length of the words in the string"
   ]
  },
  {
   "cell_type": "code",
   "execution_count": 3,
   "metadata": {},
   "outputs": [
    {
     "name": "stdout",
     "output_type": "stream",
     "text": [
      "Average length of the words in string is: 4.0\n"
     ]
    }
   ],
   "source": [
    "# Replace the characters fullstop and comma.\n",
    "str1 = str\n",
    "\n",
    "str1.replace('.','').replace(',','')\n",
    "\n",
    "# Split the str to list of words\n",
    "lst_words = str1.split()\n",
    "#lst_words\n",
    "\n",
    "# Find length of all the words\n",
    "avg_length = sum([len(s) for s in lst_words])/len(lst_words)\n",
    "\n",
    "print('Average length of the words in string is: {}'.format(round(avg_length,0)))"
   ]
  },
  {
   "cell_type": "markdown",
   "metadata": {},
   "source": [
    "#### Q2: Lower the text in the string."
   ]
  },
  {
   "cell_type": "code",
   "execution_count": 4,
   "metadata": {},
   "outputs": [
    {
     "data": {
      "text/plain": [
       "' i am very keen in building up my career in data science, but not sure from where to start. if i search the web it throws me thousands of articles, few are relevant others make me confused, again i come around to the same page. supervised has provided me a good platform to remove all such qualms which were wrangling in my mind'"
      ]
     },
     "execution_count": 4,
     "metadata": {},
     "output_type": "execute_result"
    }
   ],
   "source": [
    "str2 = str\n",
    "str2.lower()"
   ]
  },
  {
   "cell_type": "markdown",
   "metadata": {},
   "source": [
    "#### Q3: Try to get the clean text removing the punctuation from the string."
   ]
  },
  {
   "cell_type": "code",
   "execution_count": 5,
   "metadata": {},
   "outputs": [
    {
     "data": {
      "text/plain": [
       "' I am very keen in building up my career in Data Science but not sure from where to start If I search the web it throws me thousands of articles few are relevant others make me confused again I come around to the same page Supervised has provided me a good platform to remove all such qualms which were wrangling in my mind'"
      ]
     },
     "execution_count": 5,
     "metadata": {},
     "output_type": "execute_result"
    }
   ],
   "source": [
    "str3 = str\n",
    "str3.replace('.','').replace(',','')"
   ]
  },
  {
   "cell_type": "markdown",
   "metadata": {},
   "source": [
    "#### Q4: Extract word \"Data Science\" from the string"
   ]
  },
  {
   "cell_type": "code",
   "execution_count": 6,
   "metadata": {},
   "outputs": [
    {
     "data": {
      "text/plain": [
       "'Data Science'"
      ]
     },
     "execution_count": 6,
     "metadata": {},
     "output_type": "execute_result"
    }
   ],
   "source": [
    "ftxt = 'Data Science'\n",
    "str[str.find(ftxt): str.find(ftxt)+len(ftxt)]"
   ]
  },
  {
   "cell_type": "markdown",
   "metadata": {},
   "source": [
    "#### Q5: Find the frequency of words used in the string."
   ]
  },
  {
   "cell_type": "code",
   "execution_count": 7,
   "metadata": {},
   "outputs": [
    {
     "name": "stdout",
     "output_type": "stream",
     "text": [
      "[('am', 1), ('very', 1), ('keen', 1), ('building', 1), ('up', 1), ('career', 1), ('Data', 1), ('Science,', 1), ('but', 1), ('not', 1), ('sure', 1), ('from', 1), ('where', 1), ('start.', 1), ('If', 1), ('search', 1), ('web', 1), ('it', 1), ('throws', 1), ('thousands', 1), ('of', 1), ('articles,', 1), ('few', 1), ('are', 1), ('relevant', 1), ('others', 1), ('make', 1), ('confused,', 1), ('again', 1), ('come', 1), ('around', 1), ('same', 1), ('page.', 1), ('Supervised', 1), ('has', 1), ('provided', 1), ('a', 1), ('good', 1), ('platform', 1), ('remove', 1), ('all', 1), ('such', 1), ('qualms', 1), ('which', 1), ('were', 1), ('wrangling', 1), ('mind', 1), ('my', 2), ('the', 2), ('I', 3), ('in', 3), ('to', 3), ('me', 3)]\n"
     ]
    }
   ],
   "source": [
    "freq_dict = {}\n",
    "for w in lst_words:\n",
    "    if w in freq_dict:\n",
    "        freq_dict[w] += 1\n",
    "    else:\n",
    "        freq_dict[w] = 1\n",
    "        \n",
    "print(sorted(freq_dict.items(), key=lambda x: x[1]))"
   ]
  },
  {
   "cell_type": "markdown",
   "metadata": {},
   "source": [
    "#### Q6: Fetch the duplicate pairs used in the string."
   ]
  },
  {
   "cell_type": "code",
   "execution_count": 8,
   "metadata": {},
   "outputs": [
    {
     "data": {
      "text/plain": [
       "['I', 'in', 'my', 'to', 'the', 'me']"
      ]
     },
     "execution_count": 8,
     "metadata": {},
     "output_type": "execute_result"
    }
   ],
   "source": [
    "lst_dups = [key for key, val in freq_dict.items() if val>1]\n",
    "lst_dups"
   ]
  },
  {
   "cell_type": "markdown",
   "metadata": {},
   "source": [
    "#### Q7: Can you change the word \"Supervised\" to \"Unsupervised\" in the string"
   ]
  },
  {
   "cell_type": "code",
   "execution_count": 9,
   "metadata": {},
   "outputs": [
    {
     "data": {
      "text/plain": [
       "' I am very keen in building up my career in Data Science, but not sure from where to start. If I search the web it throws me thousands of articles, few are relevant others make me confused, again I come around to the same page. Unsupervised has provided me a good platform to remove all such qualms which were wrangling in my mind'"
      ]
     },
     "execution_count": 9,
     "metadata": {},
     "output_type": "execute_result"
    }
   ],
   "source": [
    "str7 = str.replace(\"Supervised\", \"Unsupervised\")\n",
    "str7"
   ]
  },
  {
   "cell_type": "markdown",
   "metadata": {},
   "source": [
    "#### Q8: Splitting of the string with a dot operator(.)"
   ]
  },
  {
   "cell_type": "code",
   "execution_count": 10,
   "metadata": {},
   "outputs": [
    {
     "name": "stdout",
     "output_type": "stream",
     "text": [
      "SENTENCE1:  I am very keen in building up my career in Data Science, but not sure from where to start\n",
      "SENTENCE2:  If I search the web it throws me thousands of articles, few are relevant others make me confused, again I come around to the same page\n",
      "SENTENCE3:  Supervised has provided me a good platform to remove all such qualms which were wrangling in my mind\n"
     ]
    }
   ],
   "source": [
    "sentences = str.split('.')\n",
    "for i, s in enumerate(sentences):\n",
    "    print(\"SENTENCE{}: {}\".format(i+1, s))"
   ]
  },
  {
   "cell_type": "markdown",
   "metadata": {},
   "source": [
    "#### Q9: Find the words from the string which ends with \"e\""
   ]
  },
  {
   "cell_type": "code",
   "execution_count": 11,
   "metadata": {},
   "outputs": [
    {
     "name": "stdout",
     "output_type": "stream",
     "text": [
      "['sure', 'where', 'the', 'me', 'are', 'make', 'me', 'come', 'the', 'same', 'me', 'remove', 'were']\n"
     ]
    }
   ],
   "source": [
    "words_e = [w for w in lst_words if w.endswith('e')]\n",
    "print(words_e)"
   ]
  },
  {
   "cell_type": "markdown",
   "metadata": {},
   "source": [
    "#### Q10: Figure out number of a's used in the string."
   ]
  },
  {
   "cell_type": "code",
   "execution_count": 12,
   "metadata": {},
   "outputs": [
    {
     "name": "stdout",
     "output_type": "stream",
     "text": [
      "No of a's : 22\n"
     ]
    }
   ],
   "source": [
    "num_a = str.count('a')\n",
    "print(\"No of a's :\",num_a)"
   ]
  },
  {
   "cell_type": "markdown",
   "metadata": {},
   "source": [
    "## Questions on Dictionary"
   ]
  },
  {
   "cell_type": "code",
   "execution_count": 14,
   "metadata": {},
   "outputs": [],
   "source": [
    "# In the weekend , I purchased 250g of apple, 500g of sugar, 2.5 kg of rice, 2.5 litres of milk and finally 1 dozen of egg."
   ]
  },
  {
   "cell_type": "code",
   "execution_count": 17,
   "metadata": {},
   "outputs": [],
   "source": [
    "# Can you help me frame the above purchase in the form of dictionary with commodities as keys to it.\n",
    "weekend_purchase = {\"apple\":0.250, \"sugar\": 0.500, \"rice\": 2.500, \"milk\": 2.500, \"egg\": 1}"
   ]
  },
  {
   "cell_type": "code",
   "execution_count": 18,
   "metadata": {},
   "outputs": [],
   "source": [
    "# I forgot to mention another item, 1kg of atta packet. Can you also add it ?\n",
    "weekend_purchase[\"atta\"] = 1"
   ]
  },
  {
   "cell_type": "code",
   "execution_count": null,
   "metadata": {},
   "outputs": [],
   "source": [
    "# Instead of 2kg of rice, I bought only 1kg of rice. Can you change the corresponding value ?\n",
    "weekend_purchase[\"rice\"] = 1"
   ]
  },
  {
   "cell_type": "code",
   "execution_count": 23,
   "metadata": {},
   "outputs": [
    {
     "name": "stdout",
     "output_type": "stream",
     "text": [
      "Item\tquantity\n",
      "apple\t0.25\n",
      "sugar\t0.5\n",
      "rice\t2.5\n",
      "milk\t2.5\n",
      "egg\t1\n",
      "atta\t1\n"
     ]
    }
   ],
   "source": [
    "# Can you list out all these items using a loop.\n",
    "print(\"Item\\tquantity\")\n",
    "for k, v in weekend_purchase.items():\n",
    "    print(\"{}\\t{}\".format(k,v))"
   ]
  },
  {
   "cell_type": "code",
   "execution_count": 25,
   "metadata": {},
   "outputs": [],
   "source": [
    "# Create another dictionary for pricing.\n",
    "pricing = {\"apple\":[1, 220], \"sugar\": [1, 43], \"rice\": [1, 45], \"milk\": [1, 30], \"egg\": [1, 60], \"atta\": [1, 100]}"
   ]
  },
  {
   "cell_type": "code",
   "execution_count": 31,
   "metadata": {},
   "outputs": [
    {
     "name": "stdout",
     "output_type": "stream",
     "text": [
      "Item\tquantity\trate\tsub-total\n",
      "apple\t0.25\t\t220\t55.0\n",
      "sugar\t0.5\t\t43\t21.5\n",
      "rice\t2.5\t\t45\t112.5\n",
      "milk\t2.5\t\t30\t75.0\n",
      "egg\t1\t\t60\t60\n",
      "atta\t1\t\t100\t100\n",
      "Sum \t\t\t\t 424.0\n"
     ]
    }
   ],
   "source": [
    "# Thereby, prepare a bill for me of the overall cost of the total commodities purchased by using two dictionaries !\n",
    "sum = 0\n",
    "print(\"Item\\tquantity\\trate\\tsub-total\")\n",
    "for k, v in weekend_purchase.items():\n",
    "    sum += v*pricing[k][1]\n",
    "    print(\"{}\\t{}\\t\\t{}\\t{}\".format(k,v,pricing[k][1],v*pricing[k][1]))\n",
    "print(\"Sum\",\"\\t\"*4, sum)"
   ]
  },
  {
   "cell_type": "markdown",
   "metadata": {},
   "source": [
    "# Questions on List"
   ]
  },
  {
   "cell_type": "code",
   "execution_count": 48,
   "metadata": {},
   "outputs": [],
   "source": [
    "AI_companies = ['Amazon', 'Facebook', 'HiSilicon', 'Google', 'Apple', 'Microsoft', 'SenseTime']"
   ]
  },
  {
   "cell_type": "code",
   "execution_count": 49,
   "metadata": {},
   "outputs": [
    {
     "name": "stdout",
     "output_type": "stream",
     "text": [
      "['Amazon', 'Apple', 'Facebook', 'Google', 'HiSilicon', 'Microsoft', 'SenseTime']\n"
     ]
    }
   ],
   "source": [
    "# Sort the list in ascending order\n",
    "AI_companies.sort()\n",
    "print(AI_companies)"
   ]
  },
  {
   "cell_type": "code",
   "execution_count": 50,
   "metadata": {},
   "outputs": [
    {
     "name": "stdout",
     "output_type": "stream",
     "text": [
      "['Amazon', 'Apple', 'Facebook', 'Google', 'HiSilicon', 'Microsoft', 'SenseTime', 'Nvidia', 'OpenAI', 'Qualcomm', 'Reliance']\n"
     ]
    }
   ],
   "source": [
    "# Add multiple companies at once 'Nvidia', 'OpenAI' , 'Qualcomm' and 'Reliance' to the list\n",
    "AI_companies.extend(['Nvidia', 'OpenAI' , 'Qualcomm', 'Reliance'])\n",
    "print(AI_companies)"
   ]
  },
  {
   "cell_type": "code",
   "execution_count": 51,
   "metadata": {},
   "outputs": [
    {
     "name": "stdout",
     "output_type": "stream",
     "text": [
      "['amazon', 'apple', 'facebook', 'google', 'hisilicon', 'microsoft', 'sensetime', 'nvidia', 'openai', 'qualcomm', 'reliance']\n"
     ]
    }
   ],
   "source": [
    "# Lower the list using List comprehension\n",
    "print([s.lower() for s in AI_companies])"
   ]
  },
  {
   "cell_type": "code",
   "execution_count": 52,
   "metadata": {},
   "outputs": [
    {
     "name": "stdout",
     "output_type": "stream",
     "text": [
      "['Amazon', 'Apple', 'Facebook', 'Google', 'HiSilicon', 'Microsoft', 'SenseTime', 'Nvidia', 'OpenAI', 'Qualcomm']\n"
     ]
    }
   ],
   "source": [
    "# Elimiate 'Reliance' from the list\n",
    "AI_companies.remove('Reliance')\n",
    "print(AI_companies)"
   ]
  },
  {
   "cell_type": "code",
   "execution_count": 58,
   "metadata": {},
   "outputs": [
    {
     "name": "stdout",
     "output_type": "stream",
     "text": [
      "['Facebook', 'Google', 'Microsoft']\n"
     ]
    }
   ],
   "source": [
    "# Extract 'Facebook', 'Google' and 'Microsoft' using a single command\n",
    "print([s for s in AI_companies if s in ['Facebook', 'Google', 'Microsoft']])"
   ]
  },
  {
   "cell_type": "markdown",
   "metadata": {},
   "source": [
    "# Questions on Tuple"
   ]
  },
  {
   "cell_type": "code",
   "execution_count": 59,
   "metadata": {},
   "outputs": [],
   "source": [
    "# (a)Consider the above standard price problem statement and place the prices in the form of the tuple.\n",
    "prices = (220, 43, 45, 30, 60, 100)"
   ]
  },
  {
   "cell_type": "code",
   "execution_count": 63,
   "metadata": {},
   "outputs": [
    {
     "name": "stdout",
     "output_type": "stream",
     "text": [
      "Max:  220 \n",
      "Min:  30\n"
     ]
    }
   ],
   "source": [
    "# (b)Find out the min and max price among them.\n",
    "print(\"Max: \",max(prices),\"\\nMin: \", min(prices))"
   ]
  },
  {
   "cell_type": "code",
   "execution_count": 64,
   "metadata": {},
   "outputs": [
    {
     "name": "stdout",
     "output_type": "stream",
     "text": [
      "('Amazon', 'Apple', 'Facebook', 'Google', 'HiSilicon', 'Microsoft', 'SenseTime', 'Nvidia', 'OpenAI', 'Qualcomm')\n"
     ]
    }
   ],
   "source": [
    "# (c)Also, convert the above \"AI_companies\" list to a tuple.\n",
    "print(tuple(AI_companies))"
   ]
  },
  {
   "cell_type": "code",
   "execution_count": 71,
   "metadata": {},
   "outputs": [
    {
     "name": "stdout",
     "output_type": "stream",
     "text": [
      "('Amazon', 'Apple', 'Facebook', 'Google', 'HiSilicon', 'Microsoft', 'SenseTime', 'Nvidia', 'OpenAI', 'Qualcomm', 220, 43, 45, 30, 60, 100)\n"
     ]
    }
   ],
   "source": [
    "# (d)Combine two above tuples to a single tuple.\n",
    "t1 = tuple(AI_companies) + prices\n",
    "print(t1)"
   ]
  },
  {
   "cell_type": "code",
   "execution_count": 73,
   "metadata": {},
   "outputs": [
    {
     "name": "stdout",
     "output_type": "stream",
     "text": [
      "True\n"
     ]
    }
   ],
   "source": [
    "# (e)Compare the length of two tuples.\n",
    "print(len(tuple(AI_companies)) > len(prices))"
   ]
  },
  {
   "cell_type": "code",
   "execution_count": null,
   "metadata": {},
   "outputs": [],
   "source": []
  }
 ],
 "metadata": {
  "kernelspec": {
   "display_name": "Python 3",
   "language": "python",
   "name": "python3"
  },
  "language_info": {
   "codemirror_mode": {
    "name": "ipython",
    "version": 3
   },
   "file_extension": ".py",
   "mimetype": "text/x-python",
   "name": "python",
   "nbconvert_exporter": "python",
   "pygments_lexer": "ipython3",
   "version": "3.7.3"
  }
 },
 "nbformat": 4,
 "nbformat_minor": 2
}
